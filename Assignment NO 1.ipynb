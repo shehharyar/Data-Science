{
 "cells": [
  {
   "cell_type": "markdown",
   "id": "ac8cd098",
   "metadata": {},
   "source": [
    "# Q1 . Write a program to print the following string in a specific format>\n",
    "Twinkle, twinkle little star,\n",
    "\t How I wonder what you are! \n",
    "\t \t Up above the world so high\n",
    "\t \t Like a diamond in the sky.\n",
    "Twinkle, twinkle little star,\n",
    "\t How I wonder what you are! "
   ]
  },
  {
   "cell_type": "code",
   "execution_count": 1,
   "id": "d471c821",
   "metadata": {},
   "outputs": [
    {
     "name": "stdout",
     "output_type": "stream",
     "text": [
      "Twinkle, twinkle little star,\n",
      "\t How I wonder what you are! \n",
      "\t \t Up above the world so high\n",
      "\t \t Like a diamond in the sky.\n",
      "Twinkle, twinkle little star,\n",
      "\t How I wonder what you are! \n"
     ]
    }
   ],
   "source": [
    "print(\"Twinkle, twinkle little star,\")\n",
    "print(\"\\t How I wonder what you are! \")\n",
    "print(\"\\t \\t Up above the world so high\")\n",
    "print(\"\\t \\t Like a diamond in the sky.\")\n",
    "print(\"Twinkle, twinkle little star,\")\n",
    "print(\"\\t How I wonder what you are! \")"
   ]
  },
  {
   "cell_type": "markdown",
   "id": "98aa04a4",
   "metadata": {},
   "source": [
    "# Q 2. Write a python program to get the python version you are using"
   ]
  },
  {
   "cell_type": "code",
   "execution_count": 2,
   "id": "d78027f3",
   "metadata": {},
   "outputs": [
    {
     "name": "stdout",
     "output_type": "stream",
     "text": [
      "PYTHON VERSION == >  3.8.8 (default, Apr 13 2021, 15:08:03) [MSC v.1916 64 bit (AMD64)]\n"
     ]
    }
   ],
   "source": [
    "import sys\n",
    "print(\"PYTHON VERSION == >  \" + sys.version)"
   ]
  },
  {
   "cell_type": "markdown",
   "id": "849687c2",
   "metadata": {},
   "source": [
    "# Q 3. Write a python program to display current date and time."
   ]
  },
  {
   "cell_type": "code",
   "execution_count": 3,
   "id": "99fdebab",
   "metadata": {},
   "outputs": [
    {
     "name": "stdout",
     "output_type": "stream",
     "text": [
      "Current date and time = 01/01/2022 22:28:53\n"
     ]
    }
   ],
   "source": [
    "from datetime import datetime\n",
    "\n",
    "today = datetime.today()\n",
    "dt_string = today.strftime(\"%d/%m/%Y %H:%M:%S\")\n",
    "print(\"Current date and time =\", dt_string)"
   ]
  },
  {
   "cell_type": "markdown",
   "id": "3f76f625",
   "metadata": {},
   "source": [
    "# Q 4. Wite a python program which accepts radius of a circle from the user and Compute the area."
   ]
  },
  {
   "cell_type": "code",
   "execution_count": 4,
   "id": "3770baaa",
   "metadata": {},
   "outputs": [
    {
     "name": "stdout",
     "output_type": "stream",
     "text": [
      "Enter the radius of circle : 3.99\n",
      "Area of a circle of radius 3.99 is 50.020954200000006. \n"
     ]
    }
   ],
   "source": [
    "radius = float(input(\"Enter the radius of circle : \"))\n",
    "pi = 3.142\n",
    "area= (pi * (radius**2))\n",
    "print(f\"Area of a circle of radius {radius} is {area}. \") "
   ]
  },
  {
   "cell_type": "markdown",
   "id": "cc5eb5ee",
   "metadata": {},
   "source": [
    "# Q 5. Write a python program which accepts the user's first and last name and print them in reverse order with a space between them."
   ]
  },
  {
   "cell_type": "code",
   "execution_count": 5,
   "id": "35ffa6bf",
   "metadata": {},
   "outputs": [
    {
     "name": "stdout",
     "output_type": "stream",
     "text": [
      "Enter your first name: Ali\n",
      "Enter your last name: Mughal\n",
      "Mughal Ali\n"
     ]
    }
   ],
   "source": [
    "first_Name = input(\"Enter your first name: \")\n",
    "last_Name = input(\"Enter your last name: \") \n",
    "print(f\"{last_Name} {first_Name}\")"
   ]
  },
  {
   "cell_type": "markdown",
   "id": "b85c333d",
   "metadata": {},
   "source": [
    "# Q 6. Write a python program which takes two inputs from user and addition them."
   ]
  },
  {
   "cell_type": "code",
   "execution_count": 6,
   "id": "2740f444",
   "metadata": {},
   "outputs": [
    {
     "name": "stdout",
     "output_type": "stream",
     "text": [
      "Enter first number: 10\n",
      "Enter second number: 320\n",
      "330\n"
     ]
    }
   ],
   "source": [
    "a = int(input(\"Enter first number: \"))\n",
    "b = int(input(\"Enter second number: \"))\n",
    "c= a+b\n",
    "print(c)"
   ]
  },
  {
   "cell_type": "code",
   "execution_count": null,
   "id": "8c4d1f6a",
   "metadata": {},
   "outputs": [],
   "source": []
  }
 ],
 "metadata": {
  "kernelspec": {
   "display_name": "Python 3",
   "language": "python",
   "name": "python3"
  },
  "language_info": {
   "codemirror_mode": {
    "name": "ipython",
    "version": 3
   },
   "file_extension": ".py",
   "mimetype": "text/x-python",
   "name": "python",
   "nbconvert_exporter": "python",
   "pygments_lexer": "ipython3",
   "version": "3.8.8"
  }
 },
 "nbformat": 4,
 "nbformat_minor": 5
}
